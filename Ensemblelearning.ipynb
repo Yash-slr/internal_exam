{
 "cells": [
  {
   "cell_type": "code",
   "execution_count": 5,
   "id": "23c01f7a-8cfb-4a51-8d90-0192590f3f31",
   "metadata": {},
   "outputs": [],
   "source": [
    "from sklearn.linear_model import LogisticRegression\n",
    "from sklearn.naive_bayes import GaussianNB\n",
    "from sklearn.ensemble import VotingClassifier\n",
    "from sklearn.tree import DecisionTreeClassifier\n",
    "from sklearn.model_selection import train_test_split\n",
    "import pandas as pd\n",
    "import numpy as np"
   ]
  },
  {
   "cell_type": "code",
   "execution_count": 6,
   "id": "20e81d32-0b91-49b6-8f3a-871d9d4e9bdc",
   "metadata": {},
   "outputs": [
    {
     "data": {
      "text/html": [
       "<div>\n",
       "<style scoped>\n",
       "    .dataframe tbody tr th:only-of-type {\n",
       "        vertical-align: middle;\n",
       "    }\n",
       "\n",
       "    .dataframe tbody tr th {\n",
       "        vertical-align: top;\n",
       "    }\n",
       "\n",
       "    .dataframe thead th {\n",
       "        text-align: right;\n",
       "    }\n",
       "</style>\n",
       "<table border=\"1\" class=\"dataframe\">\n",
       "  <thead>\n",
       "    <tr style=\"text-align: right;\">\n",
       "      <th></th>\n",
       "      <th>Loan_ID</th>\n",
       "      <th>Dependents</th>\n",
       "      <th>ApplicantIncome</th>\n",
       "      <th>CoapplicantIncome</th>\n",
       "      <th>LoanAmount</th>\n",
       "      <th>Loan_Amount_Term</th>\n",
       "      <th>Credit_History</th>\n",
       "      <th>gender_Male</th>\n",
       "      <th>married_Yes</th>\n",
       "      <th>education_Not Graduate</th>\n",
       "      <th>property_area_Semiurban</th>\n",
       "      <th>property_area_Urban</th>\n",
       "      <th>self_employed_Yes</th>\n",
       "      <th>Loan_status_Y</th>\n",
       "    </tr>\n",
       "  </thead>\n",
       "  <tbody>\n",
       "    <tr>\n",
       "      <th>1</th>\n",
       "      <td>LP001003</td>\n",
       "      <td>1</td>\n",
       "      <td>4583</td>\n",
       "      <td>1508.0</td>\n",
       "      <td>128.0</td>\n",
       "      <td>360.0</td>\n",
       "      <td>1.0</td>\n",
       "      <td>1</td>\n",
       "      <td>1</td>\n",
       "      <td>0</td>\n",
       "      <td>0</td>\n",
       "      <td>0</td>\n",
       "      <td>0</td>\n",
       "      <td>0</td>\n",
       "    </tr>\n",
       "    <tr>\n",
       "      <th>2</th>\n",
       "      <td>LP001005</td>\n",
       "      <td>0</td>\n",
       "      <td>3000</td>\n",
       "      <td>0.0</td>\n",
       "      <td>66.0</td>\n",
       "      <td>360.0</td>\n",
       "      <td>1.0</td>\n",
       "      <td>1</td>\n",
       "      <td>1</td>\n",
       "      <td>0</td>\n",
       "      <td>0</td>\n",
       "      <td>1</td>\n",
       "      <td>1</td>\n",
       "      <td>1</td>\n",
       "    </tr>\n",
       "    <tr>\n",
       "      <th>3</th>\n",
       "      <td>LP001006</td>\n",
       "      <td>0</td>\n",
       "      <td>2583</td>\n",
       "      <td>2358.0</td>\n",
       "      <td>120.0</td>\n",
       "      <td>360.0</td>\n",
       "      <td>1.0</td>\n",
       "      <td>1</td>\n",
       "      <td>1</td>\n",
       "      <td>1</td>\n",
       "      <td>0</td>\n",
       "      <td>1</td>\n",
       "      <td>0</td>\n",
       "      <td>1</td>\n",
       "    </tr>\n",
       "    <tr>\n",
       "      <th>4</th>\n",
       "      <td>LP001008</td>\n",
       "      <td>0</td>\n",
       "      <td>6000</td>\n",
       "      <td>0.0</td>\n",
       "      <td>141.0</td>\n",
       "      <td>360.0</td>\n",
       "      <td>1.0</td>\n",
       "      <td>1</td>\n",
       "      <td>0</td>\n",
       "      <td>0</td>\n",
       "      <td>0</td>\n",
       "      <td>1</td>\n",
       "      <td>0</td>\n",
       "      <td>1</td>\n",
       "    </tr>\n",
       "    <tr>\n",
       "      <th>5</th>\n",
       "      <td>LP001011</td>\n",
       "      <td>2</td>\n",
       "      <td>5417</td>\n",
       "      <td>4196.0</td>\n",
       "      <td>267.0</td>\n",
       "      <td>360.0</td>\n",
       "      <td>1.0</td>\n",
       "      <td>1</td>\n",
       "      <td>1</td>\n",
       "      <td>0</td>\n",
       "      <td>0</td>\n",
       "      <td>1</td>\n",
       "      <td>1</td>\n",
       "      <td>1</td>\n",
       "    </tr>\n",
       "  </tbody>\n",
       "</table>\n",
       "</div>"
      ],
      "text/plain": [
       "    Loan_ID Dependents  ApplicantIncome  CoapplicantIncome  LoanAmount  \\\n",
       "1  LP001003          1             4583             1508.0       128.0   \n",
       "2  LP001005          0             3000                0.0        66.0   \n",
       "3  LP001006          0             2583             2358.0       120.0   \n",
       "4  LP001008          0             6000                0.0       141.0   \n",
       "5  LP001011          2             5417             4196.0       267.0   \n",
       "\n",
       "   Loan_Amount_Term  Credit_History  gender_Male  married_Yes  \\\n",
       "1             360.0             1.0            1            1   \n",
       "2             360.0             1.0            1            1   \n",
       "3             360.0             1.0            1            1   \n",
       "4             360.0             1.0            1            0   \n",
       "5             360.0             1.0            1            1   \n",
       "\n",
       "   education_Not Graduate  property_area_Semiurban  property_area_Urban  \\\n",
       "1                       0                        0                    0   \n",
       "2                       0                        0                    1   \n",
       "3                       1                        0                    1   \n",
       "4                       0                        0                    1   \n",
       "5                       0                        0                    1   \n",
       "\n",
       "   self_employed_Yes  Loan_status_Y  \n",
       "1                  0              0  \n",
       "2                  1              1  \n",
       "3                  0              1  \n",
       "4                  0              1  \n",
       "5                  1              1  "
      ]
     },
     "execution_count": 6,
     "metadata": {},
     "output_type": "execute_result"
    }
   ],
   "source": [
    "df=pd.read_csv(\"train_clean_data.csv\",index_col=0)\n",
    "df.head()"
   ]
  },
  {
   "cell_type": "code",
   "execution_count": 7,
   "id": "7980c5cf-9b2c-4051-bd61-ccc027c1fec2",
   "metadata": {},
   "outputs": [
    {
     "name": "stdout",
     "output_type": "stream",
     "text": [
      "<class 'pandas.core.frame.DataFrame'>\n",
      "Index: 517 entries, 1 to 613\n",
      "Data columns (total 14 columns):\n",
      " #   Column                   Non-Null Count  Dtype  \n",
      "---  ------                   --------------  -----  \n",
      " 0   Loan_ID                  517 non-null    object \n",
      " 1   Dependents               517 non-null    object \n",
      " 2   ApplicantIncome          517 non-null    int64  \n",
      " 3   CoapplicantIncome        517 non-null    float64\n",
      " 4   LoanAmount               517 non-null    float64\n",
      " 5   Loan_Amount_Term         517 non-null    float64\n",
      " 6   Credit_History           517 non-null    float64\n",
      " 7   gender_Male              517 non-null    int64  \n",
      " 8   married_Yes              517 non-null    int64  \n",
      " 9   education_Not Graduate   517 non-null    int64  \n",
      " 10  property_area_Semiurban  517 non-null    int64  \n",
      " 11  property_area_Urban      517 non-null    int64  \n",
      " 12  self_employed_Yes        517 non-null    int64  \n",
      " 13  Loan_status_Y            517 non-null    int64  \n",
      "dtypes: float64(4), int64(8), object(2)\n",
      "memory usage: 60.6+ KB\n"
     ]
    }
   ],
   "source": [
    "df.info()"
   ]
  },
  {
   "cell_type": "code",
   "execution_count": 8,
   "id": "d77aa049-88e3-4bf3-b8d5-b1be43ef9346",
   "metadata": {},
   "outputs": [
    {
     "data": {
      "text/plain": [
       "(517, 14)"
      ]
     },
     "execution_count": 8,
     "metadata": {},
     "output_type": "execute_result"
    }
   ],
   "source": [
    "df.shape"
   ]
  },
  {
   "cell_type": "code",
   "execution_count": 9,
   "id": "602f3373-7071-44a4-a9b1-0d1237ec851c",
   "metadata": {},
   "outputs": [
    {
     "data": {
      "text/plain": [
       "Loan_status_Y\n",
       "1    360\n",
       "0    157\n",
       "Name: count, dtype: int64"
      ]
     },
     "execution_count": 9,
     "metadata": {},
     "output_type": "execute_result"
    }
   ],
   "source": [
    "df['Loan_status_Y'].value_counts()"
   ]
  },
  {
   "cell_type": "code",
   "execution_count": 10,
   "id": "03e9c100-8e19-49d0-b58e-b58b47b532f2",
   "metadata": {},
   "outputs": [],
   "source": [
    "X=df.drop(['Loan_ID','Dependents','Loan_status_Y'],axis=1)\n",
    "y=df['Loan_status_Y']"
   ]
  },
  {
   "cell_type": "code",
   "execution_count": 11,
   "id": "8e26d6b1-1263-4f23-8b47-6538a5519faa",
   "metadata": {},
   "outputs": [],
   "source": [
    "X_train,X_test,y_train,y_test=train_test_split(X,y,test_size=0.33,stratify=y,random_state=42)"
   ]
  },
  {
   "cell_type": "markdown",
   "id": "7f45f7fb-c14e-4b42-848e-45d3de91053f",
   "metadata": {},
   "source": [
    "Synthetic Minority Over-Sampling Technique from the imblearn library to balance an imbalanced datset\n",
    "Interploating:- \"finding a point between two known points\""
   ]
  },
  {
   "cell_type": "code",
   "execution_count": 12,
   "id": "9c9e6a02-de88-486c-b0de-2e2cb9f1efa7",
   "metadata": {},
   "outputs": [],
   "source": [
    "from imblearn.over_sampling import SMOTE\n",
    "smote=SMOTE(random_state=42)\n",
    "X_train_res,y_train_res=smote.fit_resample(X_train,y_train)"
   ]
  },
  {
   "cell_type": "code",
   "execution_count": 13,
   "id": "e6132090-745c-47c8-b0ef-32182c0f03d8",
   "metadata": {},
   "outputs": [
    {
     "data": {
      "text/plain": [
       "(482, 11)"
      ]
     },
     "execution_count": 13,
     "metadata": {},
     "output_type": "execute_result"
    }
   ],
   "source": [
    "X_train_res.shape"
   ]
  },
  {
   "cell_type": "code",
   "execution_count": 14,
   "id": "319451b1-9618-44dc-9560-4475f0af18e5",
   "metadata": {},
   "outputs": [
    {
     "data": {
      "text/plain": [
       "(482,)"
      ]
     },
     "execution_count": 14,
     "metadata": {},
     "output_type": "execute_result"
    }
   ],
   "source": [
    "y_train_res.shape"
   ]
  },
  {
   "cell_type": "raw",
   "id": "7887084e-6814-48e2-a2e8-2043f459b6db",
   "metadata": {},
   "source": [
    "Voting Classifier"
   ]
  },
  {
   "cell_type": "code",
   "execution_count": 15,
   "id": "393240b6-e79f-4a75-9929-1759f3e33028",
   "metadata": {},
   "outputs": [],
   "source": [
    "clf1=DecisionTreeClassifier(class_weight='balanced')\n",
    "clf2=GaussianNB()\n",
    "clf3=LogisticRegression(solver='liblinear',max_iter=200,class_weight='balanced')"
   ]
  },
  {
   "cell_type": "code",
   "execution_count": 16,
   "id": "c6787f7d-1af4-4c96-8d6b-4d4558e0202a",
   "metadata": {},
   "outputs": [
    {
     "data": {
      "text/plain": [
       "array([0, 0, 1, 1, 1, 1, 1, 1, 1, 1, 1, 1, 1, 1, 1, 1, 1, 1, 0, 1, 0, 1,\n",
       "       1, 1, 0, 0, 1, 1, 1, 0, 1, 1, 1, 0, 1, 1, 0, 1, 1, 0, 0, 1, 0, 1,\n",
       "       1, 1, 1, 0, 1, 1, 0, 1, 1, 1, 1, 1, 1, 1, 1, 1, 1, 1, 1, 1, 1, 1,\n",
       "       0, 1, 0, 0, 0, 0, 1, 1, 1, 1, 0, 1, 1, 0, 1, 0, 1, 0, 1, 0, 1, 1,\n",
       "       0, 0, 1, 0, 1, 1, 1, 1, 1, 1, 1, 1, 1, 1, 0, 1, 1, 1, 1, 1, 1, 1,\n",
       "       1, 1, 1, 1, 1, 1, 1, 1, 1, 1, 1, 1, 1, 1, 1, 1, 0, 1, 1, 1, 0, 0,\n",
       "       1, 1, 0, 1, 0, 0, 0, 0, 1, 1, 0, 0, 0, 1, 1, 1, 1, 1, 1, 1, 1, 0,\n",
       "       1, 0, 0, 1, 1, 0, 1, 1, 1, 1, 1, 0, 0, 1, 1, 1, 0])"
      ]
     },
     "execution_count": 16,
     "metadata": {},
     "output_type": "execute_result"
    }
   ],
   "source": [
    "eclf1=VotingClassifier(estimators=[('DT',clf1),('GNB',clf2),('LR',clf3)],voting='hard')\n",
    "eclf1=eclf1.fit(X_train_res,y_train_res)\n",
    "predictions=eclf1.predict(X_test)\n",
    "predictions"
   ]
  },
  {
   "cell_type": "code",
   "execution_count": 17,
   "id": "5ca5f108-8e2a-46ad-9db5-cad2cbdcae8c",
   "metadata": {},
   "outputs": [
    {
     "name": "stdout",
     "output_type": "stream",
     "text": [
      "              precision    recall  f1-score   support\n",
      "\n",
      "           0       0.70      0.62      0.65        52\n",
      "           1       0.84      0.88      0.86       119\n",
      "\n",
      "    accuracy                           0.80       171\n",
      "   macro avg       0.77      0.75      0.76       171\n",
      "weighted avg       0.80      0.80      0.80       171\n",
      "\n",
      "[[ 32  20]\n",
      " [ 14 105]]\n"
     ]
    }
   ],
   "source": [
    "from sklearn.metrics import classification_report, confusion_matrix\n",
    "print(classification_report(y_test,predictions))\n",
    "print(confusion_matrix(y_test,predictions))"
   ]
  },
  {
   "cell_type": "code",
   "execution_count": 18,
   "id": "978d9181-49c8-485b-9493-23aac9f980bb",
   "metadata": {},
   "outputs": [
    {
     "data": {
      "text/plain": [
       "array([1, 1, 1, 1, 1, 1, 1, 1, 1, 1, 1, 1, 1, 1, 1, 1, 1, 1, 0, 1, 0, 1,\n",
       "       1, 1, 0, 1, 1, 1, 1, 1, 1, 1, 1, 0, 1, 1, 0, 1, 1, 0, 1, 1, 0, 1,\n",
       "       1, 1, 1, 1, 1, 1, 0, 1, 0, 1, 1, 1, 0, 0, 1, 1, 1, 0, 0, 1, 1, 1,\n",
       "       1, 1, 0, 0, 0, 0, 1, 1, 1, 1, 0, 1, 1, 1, 1, 0, 0, 0, 1, 0, 1, 1,\n",
       "       0, 0, 1, 0, 1, 1, 1, 1, 1, 1, 1, 1, 1, 1, 0, 1, 1, 0, 1, 1, 1, 1,\n",
       "       1, 1, 1, 1, 1, 1, 1, 1, 0, 1, 1, 1, 1, 1, 1, 1, 0, 1, 1, 1, 0, 0,\n",
       "       1, 1, 1, 1, 0, 0, 1, 0, 1, 1, 0, 0, 0, 1, 1, 1, 1, 1, 1, 1, 1, 0,\n",
       "       1, 0, 0, 1, 0, 0, 0, 1, 1, 1, 1, 0, 0, 1, 1, 1, 0])"
      ]
     },
     "execution_count": 18,
     "metadata": {},
     "output_type": "execute_result"
    }
   ],
   "source": [
    "eclf2=VotingClassifier(estimators=[('DT',clf1),('GNB',clf2),('LR',clf3)],voting='soft')\n",
    "eclf2=eclf2.fit(X_train,y_train)\n",
    "prediction=eclf2.predict(X_test)\n",
    "prediction"
   ]
  },
  {
   "cell_type": "code",
   "execution_count": 19,
   "id": "d66ac3c9-9c08-463c-97a3-67211c19f364",
   "metadata": {},
   "outputs": [
    {
     "name": "stdout",
     "output_type": "stream",
     "text": [
      "              precision    recall  f1-score   support\n",
      "\n",
      "           0       0.67      0.60      0.63        52\n",
      "           1       0.83      0.87      0.85       119\n",
      "\n",
      "    accuracy                           0.79       171\n",
      "   macro avg       0.75      0.74      0.74       171\n",
      "weighted avg       0.78      0.79      0.79       171\n",
      "\n",
      "[[ 31  21]\n",
      " [ 15 104]]\n"
     ]
    }
   ],
   "source": [
    "from sklearn.metrics import classification_report, confusion_matrix\n",
    "print(classification_report(y_test,prediction))\n",
    "print(confusion_matrix(y_test,prediction))"
   ]
  },
  {
   "cell_type": "raw",
   "id": "f152d02d-c1e1-4c57-a079-500f6b67c46a",
   "metadata": {},
   "source": [
    "Bagging"
   ]
  },
  {
   "cell_type": "code",
   "execution_count": 20,
   "id": "9fa63482-0b5f-4100-b552-d6b594fcd46c",
   "metadata": {},
   "outputs": [
    {
     "name": "stdout",
     "output_type": "stream",
     "text": [
      "Bagging Accuracy: 0.7660818713450293\n"
     ]
    }
   ],
   "source": [
    "from sklearn.ensemble import BaggingClassifier\n",
    "from sklearn.tree import DecisionTreeClassifier\n",
    "from sklearn.metrics import accuracy_score\n",
    "base_model1=DecisionTreeClassifier()\n",
    "bagging=BaggingClassifier(estimator=base_model1,n_estimators=200,random_state=0)\n",
    "bagging.fit(X_train_res,y_train_res)\n",
    "y_pred_bagging=bagging.predict(X_test)\n",
    "print(\"Bagging Accuracy:\",accuracy_score(y_test,y_pred_bagging))"
   ]
  },
  {
   "cell_type": "code",
   "execution_count": 21,
   "id": "df0c363a-a684-46b1-a436-edf6d5ca75b1",
   "metadata": {},
   "outputs": [
    {
     "name": "stdout",
     "output_type": "stream",
     "text": [
      "              precision    recall  f1-score   support\n",
      "\n",
      "           0       0.63      0.56      0.59        52\n",
      "           1       0.82      0.86      0.84       119\n",
      "\n",
      "    accuracy                           0.77       171\n",
      "   macro avg       0.72      0.71      0.71       171\n",
      "weighted avg       0.76      0.77      0.76       171\n",
      "\n",
      "[[ 29  23]\n",
      " [ 17 102]]\n"
     ]
    }
   ],
   "source": [
    "print(classification_report(y_test,y_pred_bagging))\n",
    "print(confusion_matrix(y_test,y_pred_bagging))"
   ]
  },
  {
   "cell_type": "raw",
   "id": "748691b4-c141-4d9a-a502-40871ca5b69b",
   "metadata": {},
   "source": [
    "Boosting"
   ]
  },
  {
   "cell_type": "code",
   "execution_count": 23,
   "id": "988de8bd-7258-4da2-aefc-028989b4a10b",
   "metadata": {},
   "outputs": [
    {
     "name": "stdout",
     "output_type": "stream",
     "text": [
      "Boosting(AdaBoost) accuracy: 0.7953216374269005\n"
     ]
    }
   ],
   "source": [
    "from sklearn.ensemble import AdaBoostClassifier\n",
    "from sklearn.metrics import accuracy_score,classification_report\n",
    "boosting=AdaBoostClassifier(n_estimators=1200,random_state=0)\n",
    "boosting.fit(X_train_res,y_train_res)\n",
    "y_pred_boosting=boosting.predict(X_test)\n",
    "print(\"Boosting(AdaBoost) accuracy:\",accuracy_score(y_test,y_pred_boosting))"
   ]
  },
  {
   "cell_type": "code",
   "execution_count": 25,
   "id": "2fbcc98c-dcde-44e0-85d6-115534591181",
   "metadata": {},
   "outputs": [
    {
     "name": "stdout",
     "output_type": "stream",
     "text": [
      "Report:\n",
      "               precision    recall  f1-score   support\n",
      "\n",
      "           0       0.68      0.62      0.65        52\n",
      "           1       0.84      0.87      0.86       119\n",
      "\n",
      "    accuracy                           0.80       171\n",
      "   macro avg       0.76      0.74      0.75       171\n",
      "weighted avg       0.79      0.80      0.79       171\n",
      "\n"
     ]
    }
   ],
   "source": [
    "print(\"Report:\\n\", classification_report(y_test, y_pred_boosting))\n"
   ]
  },
  {
   "cell_type": "markdown",
   "id": "db6afaff-5bd3-4d76-b9a5-517054158df7",
   "metadata": {},
   "source": [
    "RandomForest"
   ]
  },
  {
   "cell_type": "code",
   "execution_count": 26,
   "id": "e2d8e53f-c5e8-468b-a026-b79c7e38aa1d",
   "metadata": {},
   "outputs": [
    {
     "name": "stdout",
     "output_type": "stream",
     "text": [
      "Random Forest Accuracy: 0.7953216374269005\n"
     ]
    }
   ],
   "source": [
    "from sklearn.ensemble import RandomForestClassifier\n",
    "from sklearn.metrics import accuracy_score, classification_report\n",
    "rf = RandomForestClassifier(n_estimators=100, random_state=0)\n",
    "rf.fit(X_train_res, y_train_res)\n",
    "y_pred_rf = rf.predict(X_test)\n",
    "print(\"Random Forest Accuracy:\", accuracy_score(y_test, y_pred_rf))"
   ]
  },
  {
   "cell_type": "code",
   "execution_count": 27,
   "id": "9708a672-a567-401e-ab5b-c3f819304923",
   "metadata": {},
   "outputs": [
    {
     "name": "stdout",
     "output_type": "stream",
     "text": [
      "Report:\n",
      "               precision    recall  f1-score   support\n",
      "\n",
      "           0       0.70      0.58      0.63        52\n",
      "           1       0.83      0.89      0.86       119\n",
      "\n",
      "    accuracy                           0.80       171\n",
      "   macro avg       0.76      0.73      0.74       171\n",
      "weighted avg       0.79      0.80      0.79       171\n",
      "\n"
     ]
    }
   ],
   "source": [
    "print(\"Report:\\n\", classification_report(y_test, y_pred_rf))\n"
   ]
  },
  {
   "cell_type": "code",
   "execution_count": null,
   "id": "3b0920ac-6941-47c4-bfe9-4b514f761d98",
   "metadata": {},
   "outputs": [],
   "source": []
  }
 ],
 "metadata": {
  "kernelspec": {
   "display_name": "Python 3 (ipykernel)",
   "language": "python",
   "name": "python3"
  },
  "language_info": {
   "codemirror_mode": {
    "name": "ipython",
    "version": 3
   },
   "file_extension": ".py",
   "mimetype": "text/x-python",
   "name": "python",
   "nbconvert_exporter": "python",
   "pygments_lexer": "ipython3",
   "version": "3.13.2"
  }
 },
 "nbformat": 4,
 "nbformat_minor": 5
}
